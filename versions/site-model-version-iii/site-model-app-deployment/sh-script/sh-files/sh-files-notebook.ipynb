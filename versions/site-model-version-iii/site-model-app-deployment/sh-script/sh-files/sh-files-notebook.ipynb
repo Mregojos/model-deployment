{
 "cells": [
  {
   "cell_type": "markdown",
   "id": "5b8c55f7-c619-42fa-9e06-afdffe449eac",
   "metadata": {
    "tags": []
   },
   "source": [
    "# Automation using CLI "
   ]
  },
  {
   "cell_type": "markdown",
   "id": "24961f94-7f63-4332-b379-764bbce398f2",
   "metadata": {
    "jp-MarkdownHeadingCollapsed": true,
    "tags": []
   },
   "source": [
    "## Prerequisites"
   ]
  },
  {
   "cell_type": "markdown",
   "id": "6c00eb3f-f338-4acb-9a58-a99df55325c5",
   "metadata": {
    "jp-MarkdownHeadingCollapsed": true,
    "tags": []
   },
   "source": [
    "    | The Account should have accessed to:\n",
    "    * Compute Engine\n",
    "    * Storage Bucket\n",
    "    * Artifact Registry\n",
    "    * Cloud Build\n",
    "    * Cloud Run\n",
    "    \n",
    "    | IAM Roles\n",
    "    * Editor\n",
    "    * Cloud Run Admin\n",
    "    * (IAM) Security Admin    "
   ]
  },
  {
   "cell_type": "markdown",
   "id": "44432304-408f-462a-87e3-2f621820dcb8",
   "metadata": {
    "jp-MarkdownHeadingCollapsed": true,
    "tags": []
   },
   "source": [
    "### Enable APIS"
   ]
  },
  {
   "cell_type": "code",
   "execution_count": null,
   "id": "4fe7913f-5bc6-4dda-97b0-08517e8e6e13",
   "metadata": {},
   "outputs": [],
   "source": [
    "# Enable Artifact Registry, Cloud Build, and Cloud Run, Vertex AI\n",
    "# !gcloud services list --available\n",
    "!gcloud services enable cloudbuild.googleapis.com artifactregistry.googleapis.com run.googleapis.com aiplatform.googleapis.com cloudresourcemanager.googleapis.com"
   ]
  },
  {
   "cell_type": "markdown",
   "id": "abb4b270-b3ef-4854-995f-d548790aaab6",
   "metadata": {
    "jp-MarkdownHeadingCollapsed": true,
    "tags": []
   },
   "source": [
    "## Static External IP Address, Compute Engine, Service Account, Storage Bucket"
   ]
  },
  {
   "cell_type": "markdown",
   "id": "393c9568-9e46-4c51-a17d-207313bc5c9d",
   "metadata": {
    "jp-MarkdownHeadingCollapsed": true,
    "tags": []
   },
   "source": [
    "### Environment Variables"
   ]
  },
  {
   "cell_type": "code",
   "execution_count": null,
   "id": "3b6cba9b-06fc-436b-aff4-53c079994c10",
   "metadata": {},
   "outputs": [],
   "source": [
    "# Environment Variables\n",
    "DB_NAME=\"db\"\n",
    "MACHINE_TYPE=\"e2-micro\"\n",
    "REGION=\"us-west1\"\n",
    "ZONE=\"us-west1-a\"\n",
    "BOOT_DISK_SIZE=\"30\"\n",
    "TAGS=\"db\"\n",
    "FIREWALL_RULES_NAME=\"ports\"\n",
    "STATIC_IP_ADDRESS_NAME=\"db-static-ip-address\""
   ]
  },
  {
   "cell_type": "markdown",
   "id": "db6d0ea5-4ea3-4007-8ef6-45cf22bed706",
   "metadata": {
    "jp-MarkdownHeadingCollapsed": true,
    "tags": []
   },
   "source": [
    "### Static IP Address"
   ]
  },
  {
   "cell_type": "code",
   "execution_count": null,
   "id": "6a286260-db1c-471f-a33d-7b5df2daee36",
   "metadata": {
    "tags": []
   },
   "outputs": [],
   "source": [
    "# Create a static external ip address\n",
    "!gcloud compute addresses create $STATIC_IP_ADDRESS_NAME --region $REGION"
   ]
  },
  {
   "cell_type": "code",
   "execution_count": null,
   "id": "205e7343-590f-42e6-83b3-76cf2cdb3004",
   "metadata": {
    "tags": []
   },
   "outputs": [],
   "source": [
    "# Print the Static IP Address\n",
    "# !gcloud compute addresses describe $STATIC_IP_ADDRESS_NAME --region $REGION | grep \"address: \" | cut -d \" \" -f2"
   ]
  },
  {
   "cell_type": "code",
   "execution_count": null,
   "id": "cfbb9102-4d8e-4257-b450-e30d21b2353d",
   "metadata": {
    "tags": []
   },
   "outputs": [],
   "source": [
    "# STATIC_IP_ADDRESS -> $(gcloud compute addresses describe $STATIC_IP_ADDRESS_NAME --region $REGION | grep \"address: \" | cut -d \" \" -f2)"
   ]
  },
  {
   "cell_type": "markdown",
   "id": "15b22216-902d-4904-a5fe-925d537a6ee2",
   "metadata": {
    "jp-MarkdownHeadingCollapsed": true,
    "tags": []
   },
   "source": [
    "### Startup Script"
   ]
  },
  {
   "cell_type": "code",
   "execution_count": null,
   "id": "17aac5ec-c9fa-4c10-8dd6-3686e2415736",
   "metadata": {
    "tags": []
   },
   "outputs": [],
   "source": [
    "%%writefile startup-script.sh\n",
    "# Startup-script\n",
    "# In Production, it's best practice to use Cloud Storage to store startup-script\n",
    "# Environment\n",
    "export USER=\"matt\" # DB_NAME\n",
    "export DBPASSWORD=\"password\"\n",
    "\n",
    "# docs.docker.com\n",
    "curl -fsSL https://get.docker.com -o get-docker.sh\n",
    "sudo sh ./get-docker.sh\n",
    "sudo groupadd docker\n",
    "sudo usermod -aG docker $USER\n",
    "newgrp docker\n",
    "\n",
    "# Remove all running docker \n",
    "docker rm -f $(docker ps -aq)\n",
    "\n",
    "# Create a database with volume for data storage and backup\n",
    "docker run -d \\\n",
    "    --name postgres-sql \\\n",
    "    -e POSTGRES_USER=$USER \\\n",
    "    -e POSTGRES_PASSWORD=$DBPASSWORD \\\n",
    "    -v $(pwd)/data/:/var/lib/postgresql/data/ \\\n",
    "    -p 5000:5432 \\\n",
    "    postgres\n",
    "docker run -p 8000:80 \\\n",
    "    -e 'PGADMIN_DEFAULT_EMAIL=matt@example.com' \\\n",
    "    -e 'PGADMIN_DEFAULT_PASSWORD=password' \\\n",
    "    -d dpage/pgadmin4"
   ]
  },
  {
   "cell_type": "markdown",
   "id": "3f1f9a3c-e358-4801-8ec3-3157b34055fe",
   "metadata": {
    "jp-MarkdownHeadingCollapsed": true,
    "tags": []
   },
   "source": [
    "### With Cloud Storage"
   ]
  },
  {
   "cell_type": "code",
   "execution_count": null,
   "id": "1e6307a1-6a8f-470c-9272-35491fca1290",
   "metadata": {
    "tags": []
   },
   "outputs": [],
   "source": [
    "BUCKET_NAME='matt-startup-script'\n",
    "STARTUP_SCRIPT_BUCKET_SA='startup-script-bucket-sa'\n",
    "STARTUP_SCRIPT_NAME='startup-script.sh'"
   ]
  },
  {
   "cell_type": "code",
   "execution_count": null,
   "id": "d6822efc-92b5-4ced-b740-92181f0f49f8",
   "metadata": {
    "tags": []
   },
   "outputs": [],
   "source": [
    "# Make a bucket\n",
    "!gcloud storage buckets create gs://$BUCKET_NAME"
   ]
  },
  {
   "cell_type": "code",
   "execution_count": null,
   "id": "bdc55dfe-867a-41eb-9f6c-cf74400e2284",
   "metadata": {
    "tags": []
   },
   "outputs": [],
   "source": [
    "# Copy the file to Cloud Storage\n",
    "!gcloud storage cp startup-script.sh gs://$BUCKET_NAME"
   ]
  },
  {
   "cell_type": "code",
   "execution_count": null,
   "id": "1810d882-b95f-475f-8deb-279dbdf0edfa",
   "metadata": {
    "tags": []
   },
   "outputs": [],
   "source": [
    "# Create a service account\n",
    "!gcloud iam service-accounts create $STARTUP_SCRIPT_BUCKET_SA"
   ]
  },
  {
   "cell_type": "code",
   "execution_count": null,
   "id": "ccf1eb29-c5f9-415c-97eb-70d79c5d1bfa",
   "metadata": {
    "tags": []
   },
   "outputs": [],
   "source": [
    "# Enable Cloud Resource Manager\n",
    "# !gcloud services enable cloudresourcemanager.googleapis.com"
   ]
  },
  {
   "cell_type": "code",
   "execution_count": null,
   "id": "f431af1c-a678-4aef-9885-f582f142ef56",
   "metadata": {
    "tags": []
   },
   "outputs": [],
   "source": [
    "# !gcloud projects add-iam-policy-binding \\\n",
    "#    $(gcloud config get project) \\\n",
    "#    --member=serviceAccount:$STARTUP_SCRIPT_BUCKET_SA@$(gcloud config get project).iam.gserviceaccount.com \\\n",
    "#    --role=roles/editor"
   ]
  },
  {
   "cell_type": "code",
   "execution_count": null,
   "id": "1f4c38e7-f362-4c3f-9e17-a1c474f894da",
   "metadata": {
    "tags": []
   },
   "outputs": [],
   "source": [
    "# To get the IAM Policy\n",
    "# !gcloud projects get-iam-policy $(gcloud config get project)"
   ]
  },
  {
   "cell_type": "code",
   "execution_count": null,
   "id": "8db30df6-ac61-4436-a5d2-f3d1307f575e",
   "metadata": {
    "tags": []
   },
   "outputs": [],
   "source": [
    "# Add IAM Policy Binding to the Bucket Service Account\n",
    "!gcloud projects add-iam-policy-binding \\\n",
    "    $(gcloud config get project) \\\n",
    "    --member=serviceAccount:$STARTUP_SCRIPT_BUCKET_SA@$(gcloud config get project).iam.gserviceaccount.com \\\n",
    "    --role=roles/storage.objectViewer"
   ]
  },
  {
   "cell_type": "raw",
   "id": "3cdb4413-88dc-4c13-98e7-5352d914a7a8",
   "metadata": {},
   "source": [
    "# To create a custom role\n",
    "# It needs Project Owner Role\n",
    "\n",
    "# To describe and list IAM Roles \n",
    "# gcloud iam roles describe roles/storage.objectUser\n",
    "\n",
    "CUSTOM_OBJECT_GETS_ROLE='ScriptBucket'\n",
    "\n",
    "gcloud iam roles create $CUSTOM_OBJECT_GETS_ROLE \\\n",
    "    --project=$(gcloud config get project) \\\n",
    "    --title=$CUSTOM_OBJECT_GETS_ROLE \\\n",
    "    --description=\"Get the object only\" \\\n",
    "    --permissions=storage.objects.get \\\n",
    "    --stage=GA\n",
    "\n",
    "# Add IAM Policy Binding to the App Service Account\n",
    "gcloud projects add-iam-policy-binding \\\n",
    "    $(gcloud config get project) \\\n",
    "    --member=serviceAccount:$STARTUP_SCRIPT_BUCKET_SA@$(gcloud config get project).iam.gserviceaccount.com \\\n",
    "    --role=projects/$(gcloud config get project)/roles/$CUSTOM_OBJECT_GETS_ROLE\n",
    "\n",
    "# Delete\n",
    "gcloud iam roles delete $CUSTOM_OBJECT_GETS_ROLE \\\n",
    "    --project=$(gcloud config get project)\n",
    "\n",
    "# Undelete\n",
    "gcloud iam roles undelete $CUSTOM_OBJECT_GETS_ROLE \\\n",
    "    --project=$(gcloud config get project)"
   ]
  },
  {
   "cell_type": "code",
   "execution_count": null,
   "id": "a4baf44e-ae97-44f7-a92d-661eedd26359",
   "metadata": {
    "tags": []
   },
   "outputs": [],
   "source": [
    "# Create an instance with these specifications\n",
    "!gcloud compute instances create $DB_NAME \\\n",
    "    --machine-type=$MACHINE_TYPE --zone=$ZONE --tags=$TAGS \\\n",
    "    --boot-disk-size=$BOOT_DISK_SIZE \\\n",
    "    --service-account=$STARTUP_SCRIPT_BUCKET_SA@$(gcloud config get project).iam.gserviceaccount.com  \\\n",
    "    --metadata=startup-script-url=gs://$BUCKET_NAME/$STARTUP_SCRIPT_NAME \\\n",
    "    --network-interface=address=$(gcloud compute addresses describe $STATIC_IP_ADDRESS_NAME --region $REGION | grep \"address: \" | cut -d \" \" -f2)"
   ]
  },
  {
   "cell_type": "code",
   "execution_count": null,
   "id": "c9a95635-4797-493b-b834-e913ef271df1",
   "metadata": {
    "tags": []
   },
   "outputs": [],
   "source": [
    "# Delete the bucket\n",
    "# !gcloud storage rm -r gs://$BUCKET_NAME"
   ]
  },
  {
   "cell_type": "code",
   "execution_count": null,
   "id": "8c6cb2ee-6532-4b5f-a762-0a70d56a0fa6",
   "metadata": {
    "tags": []
   },
   "outputs": [],
   "source": [
    "# Delete the instance\n",
    "# !gcloud compute instances delete $DB_NAME --zone=$ZONE --quiet"
   ]
  },
  {
   "cell_type": "markdown",
   "id": "a2f80621-2123-4a1a-a93a-5ecf24cc5aef",
   "metadata": {
    "tags": []
   },
   "source": [
    "##### Create a firewall (GCP)"
   ]
  },
  {
   "cell_type": "code",
   "execution_count": null,
   "id": "a57ba458-aa49-439e-b34b-e687a817f891",
   "metadata": {},
   "outputs": [],
   "source": [
    "# Create a firewall (GCP)\n",
    "# !gcloud compute --project=$(gcloud config get project) firewall-rules create $FIREWALL_RULES_NAME \\\n",
    "#    --direction=INGRESS --priority=1000 --network=default --action=ALLOW --rules=tcp:5000,tcp:8000,tcp:8501,tcp:9000 --source-ranges=0.0.0.0/0 \\\n",
    "#   --target-tags=$TAGS"
   ]
  },
  {
   "cell_type": "code",
   "execution_count": null,
   "id": "cbb7274e-ec9c-4d27-b862-31747e598fe9",
   "metadata": {
    "tags": []
   },
   "outputs": [],
   "source": [
    "# Create a firewall (GCP)\n",
    "!gcloud compute --project=$(gcloud config get project) firewall-rules create $FIREWALL_RULES_NAME \\\n",
    "    --direction=INGRESS --priority=1000 --network=default --action=ALLOW --rules=tcp:5000 --source-ranges=0.0.0.0/0 \\\n",
    "    --target-tags=$TAGS"
   ]
  },
  {
   "cell_type": "markdown",
   "id": "c9fd9de5-fb0d-43ab-92bf-2e82aa294c83",
   "metadata": {
    "jp-MarkdownHeadingCollapsed": true,
    "tags": []
   },
   "source": [
    "### Without Cloud Storage"
   ]
  },
  {
   "cell_type": "code",
   "execution_count": null,
   "id": "3249c76e-298d-43ba-8fae-55ec5016645b",
   "metadata": {
    "tags": []
   },
   "outputs": [],
   "source": [
    "# Create an instance with these specifications\n",
    "!gcloud compute instances create $DB_NAME \\\n",
    "    --machine-type=$MACHINE_TYPE --zone=$ZONE --tags=$TAGS \\\n",
    "    --boot-disk-size=$BOOT_DISK_SIZE \\\n",
    "    --no-scopes --no-service-account \\\n",
    "    --metadata-from-file=startup-script=startup-script.sh \\\n",
    "    --network-interface=address=$(gcloud compute addresses describe $STATIC_IP_ADDRESS_NAME --region $REGION | grep \"address: \" | cut -d \" \" -f2)"
   ]
  },
  {
   "cell_type": "code",
   "execution_count": null,
   "id": "e2f6b71d-dea7-4bf6-95ea-a4d526c22ad7",
   "metadata": {
    "tags": []
   },
   "outputs": [],
   "source": [
    "# Run in another terminal to run SSH to the instance\n",
    "!echo \"gcloud compute ssh --zone $ZONE $DB_NAME\""
   ]
  },
  {
   "cell_type": "code",
   "execution_count": null,
   "id": "15e91ad4-66fe-424c-8fae-4b209956b2bb",
   "metadata": {
    "tags": []
   },
   "outputs": [],
   "source": [
    "# Delete the instance\n",
    "# !gcloud compute instances delete $DB_NAME --zone=$ZONE --quiet"
   ]
  },
  {
   "cell_type": "code",
   "execution_count": null,
   "id": "0f705d92-d894-4c20-a2d4-145e687b21c1",
   "metadata": {
    "tags": []
   },
   "outputs": [],
   "source": [
    "# !gcloud compute instances add-access-config $DB_NAME --zone=$ZONE --address=$STATIC_IP_ADDRESS"
   ]
  },
  {
   "cell_type": "markdown",
   "id": "cb098b0a-51b9-41a9-9904-b5ca5cca4bc0",
   "metadata": {
    "jp-MarkdownHeadingCollapsed": true,
    "tags": []
   },
   "source": [
    "## Build, Release, and Deploy"
   ]
  },
  {
   "cell_type": "markdown",
   "id": "25effec3-a549-45dd-be10-4fbbc960dc87",
   "metadata": {
    "jp-MarkdownHeadingCollapsed": true,
    "tags": []
   },
   "source": [
    "### Create an Artifact Registry"
   ]
  },
  {
   "cell_type": "code",
   "execution_count": null,
   "id": "6ddb7fdd-5768-4390-bb7d-64ce6f29e031",
   "metadata": {
    "tags": []
   },
   "outputs": [],
   "source": [
    "# Environment Variables For Artifact Registry and Cloud Build\n",
    "REGION=\"us-west1\"\n",
    "CLOUD_BUILD_REGION=\"us-west2\"\n",
    "APP_ARTIFACT_NAME=\"app\"\n",
    "APP_NAME=\"app\"\n",
    "APP_VERSION=\"latest\"\n",
    "# PROJECT_NAME -> gcloud config get project\n",
    "# import os\n",
    "# os.environ['REGION']=REGION\n",
    "# os.environ[\"APP_ARTIFACT_NAME\"]=APP_ARTIFACT_NAME\n",
    "# os.environ[\"APP_NAME\"]=APP_NAME\n",
    "# os.environ[\"APP_VERSION\"]=APP_VERSION"
   ]
  },
  {
   "cell_type": "code",
   "execution_count": null,
   "id": "57be8a14-e75a-4236-a85f-b0e1df0e59e5",
   "metadata": {
    "tags": []
   },
   "outputs": [],
   "source": [
    "# Create a Docker repository in Artifact Registry\n",
    "!gcloud artifacts repositories create $APP_ARTIFACT_NAME \\\n",
    "    --repository-format=docker \\\n",
    "    --location=$REGION \\\n",
    "    --description=\"Docker repository\""
   ]
  },
  {
   "cell_type": "code",
   "execution_count": null,
   "id": "17bbbb2a-d0d3-4ebc-abf1-786a4fafa959",
   "metadata": {
    "tags": []
   },
   "outputs": [],
   "source": [
    "# Verify\n",
    "!gcloud artifacts repositories list"
   ]
  },
  {
   "cell_type": "markdown",
   "id": "ecce4381-9835-4e15-9906-b6097426f60a",
   "metadata": {
    "jp-MarkdownHeadingCollapsed": true,
    "tags": []
   },
   "source": [
    "### Build an image using Dockerfile and submit to Artifact Registry"
   ]
  },
  {
   "cell_type": "code",
   "execution_count": null,
   "id": "a9d8869f-a516-4606-bc1e-c6706249a131",
   "metadata": {
    "tags": []
   },
   "outputs": [],
   "source": [
    "# Check if the path is correct\n",
    "!pwd"
   ]
  },
  {
   "cell_type": "code",
   "execution_count": null,
   "id": "291b64c7-82b7-440b-b177-1797126e07ac",
   "metadata": {
    "tags": []
   },
   "outputs": [],
   "source": [
    "cd .."
   ]
  },
  {
   "cell_type": "code",
   "execution_count": null,
   "id": "bcba4d8d-f0cb-4050-83a4-0f8f54c5c7d5",
   "metadata": {
    "tags": []
   },
   "outputs": [],
   "source": [
    "cd app"
   ]
  },
  {
   "cell_type": "code",
   "execution_count": null,
   "id": "8cc8e7f4-950c-457a-992b-27cb574b34fc",
   "metadata": {
    "tags": []
   },
   "outputs": [],
   "source": [
    "!gcloud builds submit \\\n",
    "    --region=$CLOUD_BUILD_REGION \\\n",
    "    --tag $REGION-docker.pkg.dev/$(gcloud config get-value project)/$APP_NAME/$APP_NAME:$APP_VERSION"
   ]
  },
  {
   "cell_type": "markdown",
   "id": "d6f8cb46-e955-4c00-a12c-034fa7efd81b",
   "metadata": {
    "jp-MarkdownHeadingCollapsed": true,
    "tags": []
   },
   "source": [
    "### Deploy using Cloud Run"
   ]
  },
  {
   "cell_type": "code",
   "execution_count": null,
   "id": "401cc637-b8bf-4ab3-ba34-eb34daa99dd3",
   "metadata": {},
   "outputs": [],
   "source": [
    "# For Cloud Run Deploy, use a Service Account with Cloud Run Admin\n",
    "# For Clou Run Deployed Add (Service), use a Service Account with Vertex AI User or with custom IAM Role "
   ]
  },
  {
   "cell_type": "code",
   "execution_count": null,
   "id": "c7376f9e-dc6f-4a19-8220-a8f1721d5d19",
   "metadata": {
    "tags": []
   },
   "outputs": [],
   "source": [
    "APP_SERVICE_ACCOUNT_NAME='app-service-account'"
   ]
  },
  {
   "cell_type": "code",
   "execution_count": null,
   "id": "8141d0c4-9345-4170-9d72-932505a4c75a",
   "metadata": {
    "tags": []
   },
   "outputs": [],
   "source": [
    "!gcloud iam service-accounts create $APP_SERVICE_ACCOUNT_NAME"
   ]
  },
  {
   "cell_type": "code",
   "execution_count": null,
   "id": "97ee199c-95c2-4851-85a0-e181d24d183f",
   "metadata": {},
   "outputs": [],
   "source": [
    "# Add IAM Policy Binding to the App Service Account\n",
    "!gcloud projects add-iam-policy-binding \\\n",
    "    $(gcloud config get project) \\\n",
    "    --member=serviceAccount:$APP_SERVICE_ACCOUNT_NAME@$(gcloud config get project).iam.gserviceaccount.com \\\n",
    "    --role=roles/aiplatform.user"
   ]
  },
  {
   "cell_type": "code",
   "execution_count": null,
   "id": "df1f94d6-ad0d-43ef-acc1-00d1870a8f3b",
   "metadata": {
    "tags": []
   },
   "outputs": [],
   "source": [
    "# !gcloud iam service-accounts add-iam-policy-binding \\\n",
    "#    $APP_SERVICE_ACCOUNT_NAME@$(gcloud config get project).iam.gserviceaccount.com \\\n",
    "#    --member='serviceAccount:$APP_SERVICE_ACCOUNT_NAME@$(gcloud config get project).iam.gserviceaccount.com' \\\n",
    "#    --role='roles/editor'"
   ]
  },
  {
   "cell_type": "raw",
   "id": "3a008497-afac-4b92-9e4d-ca2b971a3218",
   "metadata": {},
   "source": [
    "# To create a custom role\n",
    "# It needs Project Owner Role\n",
    "\n",
    "APP_CUSTOM_ROLE_NAME='Prediction'\n",
    "\n",
    "gcloud iam roles create $APP_CUSTOM_ROLE_NAME \\\n",
    "    --project=$(gcloud config get project) \\\n",
    "    --title=$APP_CUSTOM_ROLE_NAME \\\n",
    "    --description=\"Predict Only\" \\\n",
    "    --permissions=aiplatform.endpoints.predict \\\n",
    "    --stage=GA\n",
    "\n",
    "# Add IAM Policy Binding to the App Service Account\n",
    "gcloud projects add-iam-policy-binding \\\n",
    "    $(gcloud config get project) \\\n",
    "    --member=serviceAccount:$APP_SERVICE_ACCOUNT_NAME@$(gcloud config get project).iam.gserviceaccount.com \\\n",
    "    --role=projects/$(gcloud config get project)/roles/$APP_CUSTOM_ROLE_NAME\n",
    "\n",
    "# Delete\n",
    "gcloud iam roles delete $APP_CUSTOM_ROLE_NAME \\\n",
    "    --project=$(gcloud config get project)\n",
    "\n",
    "# Undelete\n",
    "gcloud iam roles undelete $APP_CUSTOM_ROLE_NAME \\\n",
    "    --project=$(gcloud config get project) "
   ]
  },
  {
   "cell_type": "code",
   "execution_count": null,
   "id": "4c82797d-5fbf-4152-955e-52f903038a77",
   "metadata": {},
   "outputs": [],
   "source": [
    "# DB Credentials"
   ]
  },
  {
   "cell_type": "code",
   "execution_count": null,
   "id": "ed466910-7a1b-4d4b-870e-632c27e8fd0a",
   "metadata": {
    "tags": []
   },
   "outputs": [],
   "source": [
    "!pwd"
   ]
  },
  {
   "cell_type": "code",
   "execution_count": null,
   "id": "f192df27-4cae-4629-b628-c6bbfc935efd",
   "metadata": {
    "tags": []
   },
   "outputs": [],
   "source": [
    "cd .."
   ]
  },
  {
   "cell_type": "code",
   "execution_count": null,
   "id": "86558f6c-3359-4166-a190-f87c19dad58b",
   "metadata": {
    "tags": []
   },
   "outputs": [],
   "source": [
    "cd sh-files"
   ]
  },
  {
   "cell_type": "code",
   "execution_count": null,
   "id": "fd2d5759-08ae-4b1e-bdfb-53b853ed2695",
   "metadata": {
    "jupyter": {
     "source_hidden": true
    },
    "tags": []
   },
   "outputs": [],
   "source": [
    "%%writefile env.yaml\n",
    "DBNAME:\n",
    "    \"matt\"\n",
    "USER:\n",
    "    \"matt\"\n",
    "HOST:\n",
    "    \"\"\n",
    "DBPORT:\n",
    "    \"5000\"\n",
    "DBPASSWORD:\n",
    "    \"password\"\n",
    "PROJECT_NAME:\n",
    "    \"\""
   ]
  },
  {
   "cell_type": "code",
   "execution_count": null,
   "id": "fc22768e-8d65-4dfa-ae99-112ad9c93422",
   "metadata": {
    "tags": []
   },
   "outputs": [],
   "source": [
    "!gcloud run deploy $APP_NAME \\\n",
    "    --max-instances=1 --min-instances=1 --port=9000 \\\n",
    "    --env-vars-file=env.yaml \\\n",
    "    --image=$REGION-docker.pkg.dev/$(gcloud config get project)/$APP_NAME/$APP_NAME:$APP_VERSION \\\n",
    "    --allow-unauthenticated \\\n",
    "    --region=$REGION \\\n",
    "    --service-account=$APP_SERVICE_ACCOUNT_NAME@$(gcloud config get project).iam.gserviceaccount.com "
   ]
  },
  {
   "cell_type": "code",
   "execution_count": null,
   "id": "2250d312-7542-483a-b8e8-5e96b7c3f14d",
   "metadata": {
    "tags": []
   },
   "outputs": [],
   "source": [
    "!gcloud run services list"
   ]
  },
  {
   "cell_type": "markdown",
   "id": "6d1ae8fd-c630-45d4-b867-8e4022a8c80f",
   "metadata": {
    "jp-MarkdownHeadingCollapsed": true,
    "tags": []
   },
   "source": [
    "## Delete Resources"
   ]
  },
  {
   "cell_type": "code",
   "execution_count": null,
   "id": "afb781b0-d1d0-489c-a6b9-bcc7d9495c35",
   "metadata": {
    "tags": []
   },
   "outputs": [],
   "source": [
    "!gcloud compute instances delete $DB_NAME --zone=$ZONE --quiet"
   ]
  },
  {
   "cell_type": "code",
   "execution_count": null,
   "id": "bdeaba89-938e-4b90-b11e-aa7af8074338",
   "metadata": {
    "tags": []
   },
   "outputs": [],
   "source": [
    "!gcloud compute addresses delete $STATIC_IP_ADDRESS_NAME --region $REGION --quiet"
   ]
  },
  {
   "cell_type": "code",
   "execution_count": null,
   "id": "05076550-02b5-4260-83c3-cbafec508424",
   "metadata": {
    "tags": []
   },
   "outputs": [],
   "source": [
    "!gcloud compute firewall-rules delete $FIREWALL_RULES_NAME --quiet"
   ]
  },
  {
   "cell_type": "code",
   "execution_count": null,
   "id": "7b69b859-a599-40f1-aff2-ac7cc9a9fa71",
   "metadata": {
    "tags": []
   },
   "outputs": [],
   "source": [
    "!gcloud artifacts repositories delete $APP_ARTIFACT_NAME --location=$REGION --quiet"
   ]
  },
  {
   "cell_type": "code",
   "execution_count": null,
   "id": "633b8351-54cd-4fff-9e07-57a55c7c76dc",
   "metadata": {
    "tags": []
   },
   "outputs": [],
   "source": [
    "!gcloud run services delete $APP_NAME --region=$REGION --quiet"
   ]
  },
  {
   "cell_type": "code",
   "execution_count": null,
   "id": "a86bf96a-4c73-4de3-a3b3-9af26f10de3d",
   "metadata": {
    "tags": []
   },
   "outputs": [],
   "source": [
    "!gcloud iam service-accounts delete $STARTUP_SCRIPT_BUCKET_SA@$(gcloud config get project).iam.gserviceaccount.com --quiet"
   ]
  },
  {
   "cell_type": "code",
   "execution_count": null,
   "id": "50e68bde-90dd-4bb2-a2a8-863c752501a9",
   "metadata": {
    "tags": []
   },
   "outputs": [],
   "source": [
    "!gcloud iam service-accounts delete $APP_SERVICE_ACCOUNT_NAME@$(gcloud config get project).iam.gserviceaccount.com --quiet"
   ]
  },
  {
   "cell_type": "code",
   "execution_count": null,
   "id": "a9c7617b-42ae-4af2-ae3d-45e5abb09a60",
   "metadata": {
    "tags": []
   },
   "outputs": [],
   "source": [
    "!gcloud storage rm -r gs://$BUCKET_NAME"
   ]
  },
  {
   "cell_type": "code",
   "execution_count": null,
   "id": "7db8751c-a42e-451e-8b49-13a1b74f78bf",
   "metadata": {},
   "outputs": [],
   "source": [
    "!gcloud storage rm -r gs://$(gcloud config get project)_cloudbuild"
   ]
  }
 ],
 "metadata": {
  "environment": {
   "kernel": "python3",
   "name": "tf2-cpu.2-11.m113",
   "type": "gcloud",
   "uri": "gcr.io/deeplearning-platform-release/tf2-cpu.2-11:m113"
  },
  "kernelspec": {
   "display_name": "Python 3",
   "language": "python",
   "name": "python3"
  },
  "language_info": {
   "codemirror_mode": {
    "name": "ipython",
    "version": 3
   },
   "file_extension": ".py",
   "mimetype": "text/x-python",
   "name": "python",
   "nbconvert_exporter": "python",
   "pygments_lexer": "ipython3",
   "version": "3.10.13"
  }
 },
 "nbformat": 4,
 "nbformat_minor": 5
}
